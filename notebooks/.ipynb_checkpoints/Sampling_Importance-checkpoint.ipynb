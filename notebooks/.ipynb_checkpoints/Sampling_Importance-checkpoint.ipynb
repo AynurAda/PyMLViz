{
 "cells": [
  {
   "cell_type": "code",
   "execution_count": 1,
   "metadata": {
    "scrolled": true
   },
   "outputs": [],
   "source": [
    "%run ../widgets/config_check.py"
   ]
  },
  {
   "cell_type": "code",
   "execution_count": 37,
   "metadata": {},
   "outputs": [],
   "source": [
    "# <api>\n",
    "import numpy as np\n",
    "from scipy.stats import norm, multivariate_normal\n",
    "from matplotlib import pyplot as plt\n",
    "%matplotlib inline\n",
    "\n",
    "# Load classes and functions from the previous parts\n",
    "from jupyter_cms.loader import load_notebook\n",
    "smpl_intro = load_notebook('./Sampling_Intro.ipynb')\n",
    "smpl_rej = load_notebook('./Sampling_Rejection.ipynb')\n",
    "smpl_index = load_notebook('./Sampling_Index.ipynb')"
   ]
  },
  {
   "cell_type": "code",
   "execution_count": 38,
   "metadata": {},
   "outputs": [
    {
     "data": {
      "text/html": [
       "<style>\n",
       "    .output .input_prompt,\n",
       "    .output .output .output_prompt,\n",
       "    .output .output .prompt { display: none; }\n",
       "    .output .input_area pre { padding: 0.4em; }\n",
       "</style>\n",
       "\n",
       "<div class=\"cell border-box-sizing text_cell rendered\"><div class=\"prompt input_prompt\">\n",
       "</div>\n",
       "<div class=\"inner_cell\">\n",
       "<div class=\"text_cell_render border-box-sizing rendered_html\">\n",
       "<h1 id=\"Sampling-methods\">Sampling methods<a class=\"anchor-link\" href=\"#Sampling-methods\">&#182;</a></h1><ol>\n",
       "<li><a href=\"Sampling_Intro.ipynb\">Introduction. Inversion Sampling</a></li>\n",
       "<li><a href=\"Sampling_Rejection.ipynb\">Rejection sampling</a></li>\n",
       "<li><a href=\"Sampling_Importance.ipynb\">Importance sampling</a></li>\n",
       "<li><a href=\"Sampling_MCMC.ipynb\">Markov chain Monte-Carlo (MCMC) sampling: Metropolis-Hastings algorithm</a></li>\n",
       "<li><a href=\"Sampling_Gibbs.ipynb\">Gibbs Sampling</a></li>\n",
       "<li><a href=\"Sampling_Slice.ipynb\">Slice sampling</a></li>\n",
       "<li><a href=\"Sampling_HMC.ipynb\">Hamiltonian Monte Carlo (HMC) sampling</a></li>\n",
       "<li><a href=\"Sampling_PyStan.ipynb\">PyStan</a></li>\n",
       "</ol>\n",
       "\n",
       "</div>\n",
       "</div>\n",
       "</div>\n",
       " \n",
       "\n"
      ],
      "text/plain": [
       "<IPython.core.display.HTML object>"
      ]
     },
     "metadata": {},
     "output_type": "display_data"
    }
   ],
   "source": [
    "smpl_index.help()"
   ]
  },
  {
   "cell_type": "markdown",
   "metadata": {},
   "source": [
    "# Importance sampling\n",
    "\n",
    "Importance sampling tries to fix the inefficiency of rejection sampling, by assigning weights to each sample instead of rejecting. It is based on the observation that\n",
    "$$ \\mathbb{E}_p[f] = \\int f(x) p(x) dx = \\int f(x) \\frac{p(x)}{q(x)} q(x) dx = \\mathbb{E}_q[f \\frac{p}{q}] $$\n",
    "for any function $f(x)$.\n",
    "\n",
    "Thus, instead of using samples $x_1,\\ldots,x_N$ from $p(x)$ to approximate the expectation $\\mathbb{E}_p[f]$ of $f$ under $p$ as\n",
    "$$ \\mathbb{E}_p[f] \\approx \\frac{1}{N} \\sum_{i=1}^n f(x_i) $$\n",
    "we can just as well use samples from some other distribution $q(x)$ and evaluate the expectation of $f \\frac{p}{q}$ under $q$.\n",
    "\n",
    "This scheme can easily be extended when the normalization constant of $p(x)$ is not available, i.e. $p(x) = \\frac{1}{Z} \\hat{p}(x)$. Then,\n",
    "$$ \\mathbb{E}_p[f] = \\int \\frac{1}{Z} f(x) \\hat{p}(x) dx = \\frac{1}{Z} \\mathbb{E}_q[f \\frac{\\hat{p}}{q}] $$\n",
    "and since $\\int p(x) dx = 1 = \\frac{1}{Z} \\int \\frac{\\hat{p}(x)}{q(x)} q(x) dx$, $Z$ can be found via importance sampling as well:\n",
    "$$ Z = \\int \\frac{\\hat{p}(x)}{q(x)} q(x) dx = \\mathbb{E}_q[\\frac{\\hat{p}}{q}]$$\n",
    "\n",
    "Thus, assuming that we have samples $x_1,\\ldots,x_n$ from $q$, the expectation $\\mathbb{E}_p[f]$ can be approximated as\n",
    "$$ \\mathbb{E}_p[f] \\approx \\frac{\\sum_{i=1}^N f(x_i) w_i}{\\sum_{i=1}^N w_i} $$\n",
    "with $w_i = \\frac{\\hat{p}(x_i)}{q(x_i)}$ being the **_weight_** of sample $x_i$"
   ]
  },
  {
   "cell_type": "code",
   "execution_count": 25,
   "metadata": {},
   "outputs": [],
   "source": [
    "# <api>\n",
    "class ImportanceSampling (smpl_intro.Sampling):\n",
    "    def __init__(self, log_p, q):\n",
    "        \"\"\"\n",
    "        q is assumed to support sampling q.rvs and density evaluation q.pdf\n",
    "        \"\"\"\n",
    "        self.log_p = log_p\n",
    "        self.q = q\n",
    "        \n",
    "    def sample (self):\n",
    "        \"\"\"\n",
    "        Note: Importance sampling returns a sample and its associated weight\n",
    "        \"\"\"\n",
    "        x = self.q.rvs()\n",
    "        w = np.exp(self.log_p(x) - self.q.logpdf(x))\n",
    "        return [x,w]"
   ]
  },
  {
   "cell_type": "code",
   "execution_count": 26,
   "metadata": {},
   "outputs": [],
   "source": [
    "# <api>\n",
    "def weighted_gauss_hist (ax, weighted_data, bins):\n",
    "    x = np.arange(-4,4,0.01)\n",
    "    ax.hist(np.array(weighted_data)[:,0], bins, normed=True, \n",
    "            weights=np.array(weighted_data)[:,1])\n",
    "    ax.plot(x, smpl_intro.phi(x), 'r-', alpha=0.7)"
   ]
  },
  {
   "cell_type": "code",
   "execution_count": 27,
   "metadata": {
    "scrolled": false
   },
   "outputs": [
    {
     "data": {
      "application/vnd.jupyter.widget-view+json": {
       "model_id": "58b4e00d29f741078e89a19d93a9d597",
       "version_major": 2,
       "version_minor": 0
      },
      "text/plain": [
       "HBox(children=(Button(description='Redraw', style=ButtonStyle()), IntSlider(value=7, continuous_update=False, …"
      ]
     },
     "metadata": {},
     "output_type": "display_data"
    },
    {
     "data": {
      "application/vnd.jupyter.widget-view+json": {
       "model_id": "56ca6452107c431a8746848034f80897",
       "version_major": 2,
       "version_minor": 0
      },
      "text/plain": [
       "Output()"
      ]
     },
     "metadata": {},
     "output_type": "display_data"
    }
   ],
   "source": [
    "sampling = ImportanceSampling(log_p=lambda x: np.log(smpl_rej.p(x)), q=norm(loc=1,scale=2))\n",
    "\n",
    "smpl_intro.show_sampling(sampling, plotter=weighted_gauss_hist, \n",
    "                    f_exp=lambda x: np.array(x[0])[:,1], true_exp=np.sqrt(2*np.pi))"
   ]
  },
  {
   "cell_type": "markdown",
   "metadata": {},
   "source": [
    "We can also approximate the normalization constant of $p(x) = e^{-\\frac{1}{2} x^2}$ by the mean of the sample weights:"
   ]
  },
  {
   "cell_type": "code",
   "execution_count": 28,
   "metadata": {
    "scrolled": false
   },
   "outputs": [
    {
     "data": {
      "image/png": "[encoded data removed]",
      "text/plain": [
       "<matplotlib.figure.Figure at 0x7fce78f71160>"
      ]
     },
     "metadata": {},
     "output_type": "display_data"
    }
   ],
   "source": [
    "smpl_intro.show_expectation(sampling, lambda x: x[1]) # f extracts weight\n",
    "plt.axhline(np.sqrt(2*np.pi), color='r'); # true normalization constant"
   ]
  },
  {
   "cell_type": "markdown",
   "metadata": {},
   "source": [
    "Importance sampling can fail miserably if $q$ has thinner tails as $p$. In this case, the weights $\\frac{p(x)}{q(x)}$ can become arbitrarily large and dominate the weighted samples!\n",
    "\n",
    "This effect is demonstrated below:"
   ]
  },
  {
   "cell_type": "code",
   "execution_count": 29,
   "metadata": {
    "scrolled": false
   },
   "outputs": [
    {
     "data": {
      "application/vnd.jupyter.widget-view+json": {
       "model_id": "9fc6264446984034b8c2f115fbef2175",
       "version_major": 2,
       "version_minor": 0
      },
      "text/plain": [
       "HBox(children=(Button(description='Redraw', style=ButtonStyle()), IntSlider(value=7, continuous_update=False, …"
      ]
     },
     "metadata": {},
     "output_type": "display_data"
    },
    {
     "data": {
      "application/vnd.jupyter.widget-view+json": {
       "model_id": "da75557a61ca454d98ff4d5cb3964628",
       "version_major": 2,
       "version_minor": 0
      },
      "text/plain": [
       "Output()"
      ]
     },
     "metadata": {},
     "output_type": "display_data"
    }
   ],
   "source": [
    "sampling = ImportanceSampling(log_p=lambda x: np.log(smpl_rej.p(x)), q=norm(loc=0,scale=0.25))\n",
    "\n",
    "smpl_intro.show_sampling(sampling, plotter=weighted_gauss_hist, f_exp=lambda x: np.array(x[0])[:,1])"
   ]
  },
  {
   "cell_type": "markdown",
   "metadata": {},
   "source": [
    "Is there a diagnostic to detect this type of problem?\n",
    "\n",
    "In general, detecting the failure of a sampling methods can be quite difficult. Nevertheless the importance weights can give us some information about the effectiveness of importance sampling. We noted above, that the variance of the standard Monte-Carlo estimate using $N$ samples is given by\n",
    "$$ \\mathbb{V}ar_p[\\frac{1}{N} \\sum_{i=1}^N f(x_i)] = \\frac{1}{N} \\mathbb{V}ar_p[f] $$\n",
    "Similarly, we could compute the variance of the weighted average used in importance sampling\n",
    "$$ \\mathbb{V}ar_p[\\sum_{i=1}^N \\frac{w_i}{\\sum_{i=1}^N w_i} f(x_i)] = \\frac{\\sum_{i=1}^N w_i^2}{(\\sum_{i=1}^N w_i)^2} \\mathbb{V}ar_p[f] $$\n",
    "Thus, by comparing coefficients we can define\n",
    "$$ N_{eff} = \\frac{(\\sum_{i=1}^N w_i)^2}{\\sum_{i=1}^N w_i^2} $$\n",
    "as an approximate effective sampling size.\n",
    "\n",
    "Note: This derivation is by no means exact, as the weights $w_i$ are actually not fixed, but dependent on the samples $x_i$. Thus, they are in particular not necessarily independent of $f(x_i)$ ..."
   ]
  },
  {
   "cell_type": "code",
   "execution_count": 30,
   "metadata": {},
   "outputs": [],
   "source": [
    "# <api>\n",
    "def ess (x):\n",
    "    \"\"\"\n",
    "    Effective sample size of weighted samples x\n",
    "    \"\"\"\n",
    "    w = np.array(x)[:,1] # extract weight\n",
    "    return np.sum(w)**2/np.sum(w**2)"
   ]
  },
  {
   "cell_type": "code",
   "execution_count": 31,
   "metadata": {
    "scrolled": false
   },
   "outputs": [],
   "source": [
    "# <api>\n",
    "def plt_ess (ax, weighted_data, bins):\n",
    "    weighted_gauss_hist(ax, weighted_data, bins)    \n",
    "    ax.text(1, 0.35, \"N_eff = \"+str(ess(weighted_data)))"
   ]
  },
  {
   "cell_type": "code",
   "execution_count": 32,
   "metadata": {},
   "outputs": [
    {
     "data": {
      "application/vnd.jupyter.widget-view+json": {
       "model_id": "3c463708be18446fb939ee15b3d0b542",
       "version_major": 2,
       "version_minor": 0
      },
      "text/plain": [
       "HBox(children=(Button(description='Redraw', style=ButtonStyle()), IntSlider(value=7, continuous_update=False, …"
      ]
     },
     "metadata": {},
     "output_type": "display_data"
    },
    {
     "data": {
      "application/vnd.jupyter.widget-view+json": {
       "model_id": "5cf41e582810493db652513c35eb6519",
       "version_major": 2,
       "version_minor": 0
      },
      "text/plain": [
       "Output()"
      ]
     },
     "metadata": {},
     "output_type": "display_data"
    }
   ],
   "source": [
    "smpl_intro.show_sampling(sampling, plotter=plt_ess, f_exp=lambda x: np.array(x[0])[:,1])"
   ]
  },
  {
   "cell_type": "markdown",
   "metadata": {},
   "source": [
    "Some theoretical remarks on importance sampling:\n",
    "\n",
    "* What is the optimal choice for $q$?\n",
    "\n",
    "  Remember that the variance of a Monte-Carlo estimate for $\\mu = \\mathbb{E}_p[f]$ is given by $\\frac{1}{N} \\mathbb{V}ar_p[f]$. In importance sampling, the integrand is changed to $f \\frac{p}{q}$ and the expectation is then evaluated with respect to the sampling density $q$. It is easy to see that the optimal choice would be $q(x) = \\frac{p(x) f(x)}{\\mu}$ with variance\n",
    "  $$ \\mathbb{V}ar_q[ f \\frac{p}{q} ] = \\mathbb{V}ar_q[ \\mu ] = 0 $$\n",
    "  Note: While optimal this choice is infeasible since the normalization constant of this $q$ is equal to $\\mu$, i.e. the mean of $f$ which is to be computed in the first place.\n",
    "\n",
    "* In general, importance sampling can be considered a variance reduction technique. We compute $$ \\mathbb{V}ar_p[f] - \\mathbb{V}ar_q[f \\frac{p}{q}] = \\int f^2(x) (1 - \\frac{p(x)}{q(x)}) p(x) dx $$\n",
    "  Thus, importance sampling reduces the variances when $\\frac{p(x)}{q(x)} < 1$ if $f(x) p(x)$ large, while allowing for $\\frac{p(x)}{q(x)} > 1$ if $f(x) p(x)$ is small."
   ]
  },
  {
   "cell_type": "markdown",
   "metadata": {},
   "source": [
    "**Example**: Pricing an (out-of-the-money) Asian call option with importance sampling\n",
    "\n",
    "Consider a Black-Scholes world, i.e. the stock price $S_t$ follows a geometric Brownian motion, i.e. $$ S_t = S_0 e^{(r - \\frac{\\sigma^2}{2}) t + \\sigma W_t}$$ where $W_t$ denotes a Brownian motion.\n",
    "\n",
    "Now, assume that an Asian call with strike $K$ and expiring at time $T$ pays\n",
    "$$ a(S) = \\max ( 0, \\frac{1}{M} \\sum_{i=1}^M S_{i \\frac{T}{M}} - K ), $$\n",
    "i.e. the stock price is averaged over days $i \\frac{T}{M}$ for $i=1,\\ldots,M$ and then compared with the strike $K$. Using the above formula for the stock price, we can compute $S_{i \\frac{T}{M}} = S_0 e^{(r - \\frac{\\sigma^2}{2}) i \\frac{T}{M} + \\sigma \\sqrt{\\frac{T}{M}} (X_1 + \\ldots + X_i)}$ where $X_i \\sim \\mathcal{N}(0,1)$ since the Brownian motion is the cumulative sum of standard normal increments.\n",
    "\n",
    "The risk-neutral option price is then computed as\n",
    "$$ \\mathbb{E}_S[ e^{-rT} a(S) ] $$\n",
    "\n",
    "Below, we compute the price for an option that is vastly out of the money, i.e. $K \\gg S_0$"
   ]
  },
  {
   "cell_type": "code",
   "execution_count": 33,
   "metadata": {
    "scrolled": true
   },
   "outputs": [],
   "source": [
    "# <api>\n",
    "def stock_price (S_0, r, sigma, T, X):\n",
    "    \"\"\"\n",
    "    Stock prices S_{i\\frac{T}{M}} given a sequence X[1], ..., X[M] of normal increments\n",
    "    \"\"\"\n",
    "    M = X.size\n",
    "    i = np.arange(M) + 1 # i = 1,...,M\n",
    "    return S_0*np.exp( (r-sigma**2/2.0)*i*T/M + sigma*np.sqrt(T/M)*np.cumsum(X) )\n",
    "\n",
    "def a(S, K):\n",
    "    return np.max([0, np.mean(S) - K])\n",
    "\n",
    "class NormalIncrements (smpl_intro.Sampling):\n",
    "    def __init__ (self, M):\n",
    "        self.M = M\n",
    "    def sample(self):\n",
    "        return np.random.normal(size=(self.M,))\n",
    "    \n",
    "def out_of_money (X):\n",
    "    sigma = 0.25/np.sqrt(365) # 25% yearly volatility\n",
    "    S = stock_price(100, 0, sigma, 6*30, X)\n",
    "    return a(S, 130)"
   ]
  },
  {
   "cell_type": "code",
   "execution_count": 34,
   "metadata": {},
   "outputs": [
    {
     "data": {
      "image/png": "[encoded data removed]",
      "text/plain": [
       "<matplotlib.figure.Figure at 0x7fce78c4a2e8>"
      ]
     },
     "metadata": {},
     "output_type": "display_data"
    }
   ],
   "source": [
    "M = 100\n",
    "smpl_intro.show_expectation(NormalIncrements(M), out_of_money)"
   ]
  },
  {
   "cell_type": "markdown",
   "metadata": {},
   "source": [
    "Next, the same with importance sampling shifting up the mean of the sampling distribution:"
   ]
  },
  {
   "cell_type": "code",
   "execution_count": 35,
   "metadata": {
    "scrolled": true
   },
   "outputs": [
    {
     "data": {
      "image/png": "[encoded data removed]",
      "text/plain": [
       "<matplotlib.figure.Figure at 0x7fce78aa1eb8>"
      ]
     },
     "metadata": {},
     "output_type": "display_data"
    }
   ],
   "source": [
    "smpl_intro.show_expectation(ImportanceSampling(log_p = multivariate_normal(mean=np.zeros(10)).logpdf,\n",
    "                                          q = multivariate_normal(mean=1.0*np.ones(10))), \n",
    "                       lambda X: X[1]*out_of_money(X[0]))"
   ]
  }
 ],
 "metadata": {
  "kernelspec": {
   "display_name": "Python 3",
   "language": "python",
   "name": "python3"
  },
  "language_info": {
   "codemirror_mode": {
    "name": "ipython",
    "version": 3
   },
   "file_extension": ".py",
   "mimetype": "text/x-python",
   "name": "python",
   "nbconvert_exporter": "python",
   "pygments_lexer": "ipython3",
   "version": "3.6.4"
  }
 },
 "nbformat": 4,
 "nbformat_minor": 1
}
