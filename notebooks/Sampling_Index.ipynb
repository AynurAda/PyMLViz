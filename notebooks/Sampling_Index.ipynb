{
 "cells": [
  {
   "cell_type": "markdown",
   "metadata": {},
   "source": [
    "# Sampling methods\n",
    "\n",
    "1. [Introduction. Inversion Sampling](Sampling_Intro.ipynb)\n",
    "2. [Rejection sampling](Sampling_Rejection.ipynb)\n",
    "3. [Importance sampling](Sampling_Importance.ipynb)\n",
    "4. [Markov chain Monte-Carlo (MCMC) sampling: Metropolis-Hastings algorithm](Sampling_MCMC.ipynb)\n",
    "5. [Gibbs Sampling](Sampling_Gibbs.ipynb)\n",
    "6. [Slice sampling](Sampling_Slice.ipynb)\n",
    "7. [Hamiltonian Monte Carlo (HMC) sampling](Sampling_HMC.ipynb)\n",
    "8. [PyStan](Sampling_PyStan.ipynb)"
   ]
  },
  {
   "cell_type": "code",
   "execution_count": 2,
   "metadata": {},
   "outputs": [],
   "source": [
    "# <help>"
   ]
  }
 ],
 "metadata": {
  "kernelspec": {
   "display_name": "Python 3",
   "language": "python",
   "name": "python3"
  },
  "language_info": {
   "codemirror_mode": {
    "name": "ipython",
    "version": 3
   },
   "file_extension": ".py",
   "mimetype": "text/x-python",
   "name": "python",
   "nbconvert_exporter": "python",
   "pygments_lexer": "ipython3",
   "version": "3.5.2"
  }
 },
 "nbformat": 4,
 "nbformat_minor": 1
}
