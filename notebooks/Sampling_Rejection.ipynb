{
 "cells": [
  {
   "cell_type": "code",
   "execution_count": 1,
   "metadata": {
    "scrolled": true
   },
   "outputs": [],
   "source": [
    "%run ../widgets/config_check.py"
   ]
  },
  {
   "cell_type": "code",
   "execution_count": 1,
   "metadata": {},
   "outputs": [],
   "source": [
    "# <api>\n",
    "import numpy as np\n",
    "from scipy.stats import norm\n",
    "from scipy.stats import multivariate_normal\n",
    "from matplotlib import pyplot as plt\n",
    "%matplotlib inline\n",
    "\n",
    "# Load classes and functions from the previous parts\n",
    "from jupyter_cms.loader import load_notebook\n",
    "smpl_intro = load_notebook('./Sampling_Intro.ipynb')\n",
    "smpl_index = load_notebook('./Sampling_Index.ipynb')"
   ]
  },
  {
   "cell_type": "code",
   "execution_count": 2,
   "metadata": {},
   "outputs": [
    {
     "data": {
      "text/html": [
       "<style>\n",
       "    .output .input_prompt,\n",
       "    .output .output .output_prompt,\n",
       "    .output .output .prompt { display: none; }\n",
       "    .output .input_area pre { padding: 0.4em; }\n",
       "</style>\n",
       "\n",
       "<div class=\"cell border-box-sizing text_cell rendered\"><div class=\"prompt input_prompt\">\n",
       "</div>\n",
       "<div class=\"inner_cell\">\n",
       "<div class=\"text_cell_render border-box-sizing rendered_html\">\n",
       "<h1 id=\"Sampling-methods\">Sampling methods<a class=\"anchor-link\" href=\"#Sampling-methods\">&#182;</a></h1><ol>\n",
       "<li><a href=\"Sampling_Intro.ipynb\">Introduction. Inversion Sampling</a></li>\n",
       "<li><a href=\"Sampling_Rejection.ipynb\">Rejection sampling</a></li>\n",
       "<li><a href=\"Sampling_Importance.ipynb\">Importance sampling</a></li>\n",
       "<li><a href=\"Sampling_MCMC.ipynb\">Markov chain Monte-Carlo (MCMC) sampling: Metropolis-Hastings algorithm</a></li>\n",
       "<li><a href=\"Sampling_Gibbs.ipynb\">Gibbs Sampling</a></li>\n",
       "<li><a href=\"Sampling_Slice.ipynb\">Slice sampling</a></li>\n",
       "<li><a href=\"Sampling_HMC.ipynb\">Hamiltonian Monte Carlo (HMC) sampling</a></li>\n",
       "<li><a href=\"Sampling_PyStan.ipynb\">PyStan</a></li>\n",
       "</ol>\n",
       "\n",
       "</div>\n",
       "</div>\n",
       "</div>\n",
       " \n",
       "\n"
      ],
      "text/plain": [
       "<IPython.core.display.HTML object>"
      ]
     },
     "metadata": {},
     "output_type": "display_data"
    }
   ],
   "source": [
    "smpl_index.help()"
   ]
  },
  {
   "cell_type": "markdown",
   "metadata": {},
   "source": [
    "# Rejection sampling\n",
    "\n",
    "The next sampling method is less efficient, but more general in the sense that it can be used even if the normalization constant of the desired density $p(x)$ is unavailable.\n",
    "\n",
    "It is based on the idea that a sample at position $x$ should be drawn with probability $p(x)$, i.e. the height under the graph of $x$. Thus, a sample can be drawn using two random numbers as follows:\n",
    "\n",
    "* Draw a sample $x$ from some distribution $q(x)$\n",
    "* Draw a uniform number $u$ between 0 and $c q(x)$:\n",
    "  - If $u < p(x)$ return the sample $x$\n",
    "  - Else discard $x$ and repeat\n",
    "  \n",
    "Here, it is assumed that samples from $q(x)$ can be drawn efficiently. Further, the scaling constant $c$ must be choosen such that $c q(x) \\geq p(x) \\quad \\forall x$. The plot below illustrates the idea for the Gaussian distribution:"
   ]
  },
  {
   "cell_type": "code",
   "execution_count": 3,
   "metadata": {},
   "outputs": [],
   "source": [
    "# <api>\n",
    "def p(x):\n",
    "    \"\"\"\n",
    "    Unnormalized density of the standard Gaussian\n",
    "    \"\"\"\n",
    "    return np.exp(-0.5*x**2)"
   ]
  },
  {
   "cell_type": "code",
   "execution_count": 4,
   "metadata": {
    "scrolled": true
   },
   "outputs": [
    {
     "data": {
      "image/png": "[encoded data removed]",
      "text/plain": [
       "<matplotlib.figure.Figure at 0x119772710>"
      ]
     },
     "metadata": {},
     "output_type": "display_data"
    }
   ],
   "source": [
    "q = norm(loc=0, scale=2)\n",
    "x = np.arange(-5,5,0.01)\n",
    "plt.plot(x, p(x), 'b-', x, 5.1*q.pdf(x), 'g-')\n",
    "plt.legend(['Density p(x)', 'Envelope c*q(x)']);"
   ]
  },
  {
   "cell_type": "code",
   "execution_count": 5,
   "metadata": {},
   "outputs": [],
   "source": [
    "#api\n",
    "class RejectionSampling (smpl_intro.Sampling):\n",
    "    def __init__ (self, p, q, c):\n",
    "        \"\"\"\n",
    "        q is assumed to support sampling q.rvs and density evaluation q.pdf\n",
    "        \"\"\"\n",
    "        self.p = p\n",
    "        self.q = q\n",
    "        self.c = c\n",
    "        self.tries = 0\n",
    "        self.samples = 0\n",
    "        self.last_approved = [0,0]\n",
    "\n",
    "    def sample (self):\n",
    "        while True:\n",
    "            self.tries += 1\n",
    "            x = self.q.rvs()\n",
    "            u = np.random.uniform(low=0, high=self.c*self.q.pdf(x))\n",
    "            if u < self.p(x):\n",
    "                self.samples += 1\n",
    "                return x\n",
    "            \n",
    "    def sample_all (self):\n",
    "        while True:\n",
    "            self.tries += 1\n",
    "            x = self.q.rvs()\n",
    "            u = np.random.uniform(low=0, high=self.c*self.q.pdf(x))\n",
    "            if u < self.p(x):\n",
    "                self.samples += 1\n",
    "                self.last_approved = x\n",
    "                return [x,x]\n",
    "            else:\n",
    "                return [self.last_approved, x]\n",
    "            \n",
    "    def __str__ (self):\n",
    "        return \"Rejection sampling: %d tries for %d samples\" % (self.tries, self.samples)           "
   ]
  },
  {
   "cell_type": "code",
   "execution_count": 6,
   "metadata": {
    "scrolled": false
   },
   "outputs": [
    {
     "data": {
      "application/vnd.jupyter.widget-view+json": {
       "model_id": "caa71a1aabf04e2f9532eb39823ce08c",
       "version_major": 2,
       "version_minor": 0
      },
      "text/plain": [
       "HBox(children=(Button(description='Redraw', style=ButtonStyle()), IntSlider(value=7, continuous_update=False, …"
      ]
     },
     "metadata": {},
     "output_type": "display_data"
    },
    {
     "data": {
      "application/vnd.jupyter.widget-view+json": {
       "model_id": "638f9120a9814283a9a0389fafd1e300",
       "version_major": 2,
       "version_minor": 0
      },
      "text/plain": [
       "Output()"
      ]
     },
     "metadata": {},
     "output_type": "display_data"
    },
    {
     "name": "stdout",
     "output_type": "stream",
     "text": [
      "Rejection sampling: 2098 tries for 1000 samples\n"
     ]
    }
   ],
   "source": [
    "sampling = RejectionSampling(p=p, q=norm(loc=0, scale=2), c=5.1)\n",
    "\n",
    "smpl_intro.show_sampling(sampling, plotter=smpl_intro.gauss_hist, \n",
    "                    f_exp=lambda x: np.power(x,2), true_exp=1.0)\n",
    "print (sampling)"
   ]
  },
  {
   "cell_type": "markdown",
   "metadata": {},
   "source": [
    "Rejection sampling tends to work well, if a distribution $q(x)$ which closely approximates $p(x)$ from above can be found. Otherwise, the area between the curves will be large leading to a high rejection rate. Especially in high dimensions this is a severe problem."
   ]
  },
  {
   "cell_type": "markdown",
   "metadata": {},
   "source": [
    "A standard example to illustrate the difficulties arising in high dimensions is a 2-dimensional Gaussian with high correlation:"
   ]
  },
  {
   "cell_type": "code",
   "execution_count": 8,
   "metadata": {},
   "outputs": [],
   "source": [
    "# <api>\n",
    "p2d = multivariate_normal(mean=[0,0], cov=[[1, 0.99],[0.99, 1]])\n",
    "x = np.linspace(-3, 3, 200)\n",
    "y = np.linspace(-3, 3, 200)\n",
    "X, Y = np.meshgrid(x, y)\n",
    "XY = np.empty(X.shape + (2,))\n",
    "XY[:,:,0] = X; XY[:,:,1] = Y"
   ]
  },
  {
   "cell_type": "code",
   "execution_count": 9,
   "metadata": {
    "scrolled": true
   },
   "outputs": [
    {
     "data": {
      "image/png": "[encoded data removed]",
      "text/plain": [
       "<matplotlib.figure.Figure at 0x7f1fe211d4a8>"
      ]
     },
     "metadata": {},
     "output_type": "display_data"
    }
   ],
   "source": [
    "plt.contour(X, Y, p2d.pdf(XY));"
   ]
  },
  {
   "cell_type": "markdown",
   "metadata": {},
   "source": [
    "The problem now is that an isotropic distribution is not a good fit since the above density has two very different length scales. Having a tight fit between the sampling and target density becomes even more important in high dimensions.\n",
    "\n",
    "For the sake of argument, consider the problem of sampling from a multi-variate Gaussian with mean zero and diagonal covariance matrix $\\sigma_p^2 \\mathbf{I}_D$ where $\\mathbf{I}_D$ denotes the $D \\times D$ identity matrix. As a sampling density, we choose another Gaussian with covariance $\\sigma_q^2 \\mathbf{I}_D$. The condition, $c q \\geq p$ now requires that $\\sigma_q^2 \\geq \\sigma_p^2$ and the optimal (smallest) value of $c$ is found to be $\\left( \\frac{\\sigma_p}{\\sigma_q} \\right)^D$. Then, the acceptance probability is given by the ratio of volumes under $p(x)$ and $c q(x)$ which is just $\\frac{1}{c}$ since both distributions are normalized. Thus, the acceptance probability vanishes exponentially in $D$.\n",
    "\n",
    "**Exercise:** Illustrate this effect when $\\sigma_q$ exceeds $\\sigma_p$ by $1 \\%$."
   ]
  },
  {
   "cell_type": "code",
   "execution_count": 10,
   "metadata": {},
   "outputs": [],
   "source": [
    "# <api>\n",
    "def gauss_hist2d (ax, data, bins):\n",
    "    x = np.array(data)[:,0]\n",
    "    y = np.array(data)[:,1]\n",
    "    ax.hist2d(x, y, bins, normed=True)"
   ]
  },
  {
   "cell_type": "code",
   "execution_count": 11,
   "metadata": {
    "scrolled": true
   },
   "outputs": [
    {
     "data": {
      "application/vnd.jupyter.widget-view+json": {
       "model_id": "bd02dc42ea184bf2924038f9602c6542",
       "version_major": 2,
       "version_minor": 0
      },
      "text/plain": [
       "HBox(children=(Button(description='Redraw', style=ButtonStyle()), IntSlider(value=7, continuous_update=False, …"
      ]
     },
     "metadata": {},
     "output_type": "display_data"
    },
    {
     "data": {
      "application/vnd.jupyter.widget-view+json": {
       "model_id": "de33fdf21dfa4460a6d1811204a57b7f",
       "version_major": 2,
       "version_minor": 0
      },
      "text/plain": [
       "Output()"
      ]
     },
     "metadata": {},
     "output_type": "display_data"
    },
    {
     "name": "stdout",
     "output_type": "stream",
     "text": [
      "Rejection sampling: 8391 tries for 1000 samples\n"
     ]
    }
   ],
   "source": [
    "q = multivariate_normal(mean=[0,0], cov=np.eye(2))\n",
    "sampling = RejectionSampling(p=p2d.pdf, q=q, c=p2d.pdf([0,0])/q.pdf([0,0]))\n",
    "\n",
    "### How can we draw the expectation for 2D data?\n",
    "smpl_intro.show_sampling(sampling, plotter=gauss_hist2d, exp=False)\n",
    "print(sampling)"
   ]
  },
  {
   "cell_type": "markdown",
   "metadata": {},
   "source": [
    "With a much higher rejection rate as in the 1-dimensional example above.\n",
    "\n",
    "The next example shows that rejection sampling fails, i.e. samples from the wrong distribution, if the condition $c q(x) \\geq p(x)$ is violated:"
   ]
  },
  {
   "cell_type": "code",
   "execution_count": 12,
   "metadata": {
    "scrolled": false
   },
   "outputs": [
    {
     "data": {
      "application/vnd.jupyter.widget-view+json": {
       "model_id": "d592110c5ab643e8b8e5fe91682cf967",
       "version_major": 2,
       "version_minor": 0
      },
      "text/plain": [
       "HBox(children=(Button(description='Redraw', style=ButtonStyle()), IntSlider(value=7, continuous_update=False, …"
      ]
     },
     "metadata": {},
     "output_type": "display_data"
    },
    {
     "data": {
      "application/vnd.jupyter.widget-view+json": {
       "model_id": "d3e622dc9f4d431d8151635411bb4490",
       "version_major": 2,
       "version_minor": 0
      },
      "text/plain": [
       "Output()"
      ]
     },
     "metadata": {},
     "output_type": "display_data"
    },
    {
     "name": "stdout",
     "output_type": "stream",
     "text": [
      "Rejection sampling: 1414 tries for 1000 samples\n"
     ]
    }
   ],
   "source": [
    "sampling = RejectionSampling(p=p, q=norm(loc=0, scale=2), c=2)\n",
    "\n",
    "smpl_intro.show_sampling(sampling, plotter=smpl_intro.gauss_hist, \n",
    "                    f_exp=lambda x: np.power(x,2), true_exp=1.4)\n",
    "\n",
    "### What is the true value for the expectation hier? Why 1.4?\n",
    "\n",
    "print(sampling)"
   ]
  }
 ],
 "metadata": {
  "kernelspec": {
   "display_name": "Python 3",
   "language": "python",
   "name": "python3"
  },
  "language_info": {
   "codemirror_mode": {
    "name": "ipython",
    "version": 3
   },
   "file_extension": ".py",
   "mimetype": "text/x-python",
   "name": "python",
   "nbconvert_exporter": "python",
   "pygments_lexer": "ipython3",
   "version": "3.5.2"
  }
 },
 "nbformat": 4,
 "nbformat_minor": 1
}
