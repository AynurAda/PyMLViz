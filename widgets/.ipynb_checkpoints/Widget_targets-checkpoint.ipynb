{
 "cells": [
  {
   "cell_type": "markdown",
   "metadata": {},
   "source": [
    "# Targets for 2D animation widgets\n",
    "\n",
    "'Target' class discribes different target distributions for 'AnimationWidget' and its customizations like 'SamplingWidget' and others."
   ]
  },
  {
   "cell_type": "code",
   "execution_count": 2,
   "metadata": {},
   "outputs": [],
   "source": [
    "# <api>\n",
    "import numpy as np\n",
    "from matplotlib import pyplot as plt\n",
    "import bqplot\n",
    "from ipywidgets import widgets, Layout\n",
    "from IPython import display\n",
    "\n",
    "%matplotlib inline"
   ]
  },
  {
   "cell_type": "markdown",
   "metadata": {},
   "source": [
    "# Normal distributions\n",
    "\n",
    "Used by other target distributions (surfaces)."
   ]
  },
  {
   "cell_type": "code",
   "execution_count": 3,
   "metadata": {},
   "outputs": [],
   "source": [
    "#<api>\n",
    "class Norm(object):\n",
    "    '''Normal distribution.'''\n",
    "    \n",
    "    def __init__(self, loc, scale):\n",
    "        self.sig =  scale\n",
    "        self.mean = loc\n",
    "        self.const = - 0.5 * np.log(2*np.pi) - np.log(self.sig)\n",
    "        \n",
    "    def logpdf(self, x):\n",
    "        return (self.const - 0.5*((x-self.mean)**2 / self.sig**2))"
   ]
  },
  {
   "cell_type": "code",
   "execution_count": 4,
   "metadata": {},
   "outputs": [],
   "source": [
    "#<api>\n",
    "class Norm2D(object):\n",
    "    '''2-dimensional multivariate normal distribution.'''\n",
    "    \n",
    "    def __init__(self, mean, cov):\n",
    "        self.cov_inv = np.linalg.inv(np.array(cov))\n",
    "        self.mean = mean\n",
    "        self.det = cov[0][0]*cov[1][1] - cov[0][1]*cov[1][0]\n",
    "        self.const = - np.log(2*np.pi) - 0.5 * np.log(self.det)\n",
    "        \n",
    "    def logpdf(self, xy):\n",
    "        x = xy[0]\n",
    "        y = xy[1]\n",
    "        return (self.const - 0.5*((x-self.mean[0])**2 * self.cov_inv[0,0] + \n",
    "                                  (y-self.mean[1])**2 * self.cov_inv[1,1] +\n",
    "                                  (x-self.mean[0]) * (y-self.mean[1]) * \n",
    "                                  (self.cov_inv[0,1] + self.cov_inv[1,0])))        "
   ]
  },
  {
   "cell_type": "markdown",
   "metadata": {},
   "source": [
    "# Targed distributions"
   ]
  },
  {
   "cell_type": "code",
   "execution_count": 5,
   "metadata": {},
   "outputs": [],
   "source": [
    "#<api>\n",
    "class Target(object):\n",
    "    '''A class of different targets for animation.'''    \n",
    "    def __init__(self):\n",
    "        self.init_grid(size)\n",
    "        \n",
    "    def init_grid(self, size):\n",
    "        '''Common block for all targets. Creates axes, grid and surface.'''\n",
    "        self.size = size\n",
    "        grid_size = 200\n",
    "        self.x = np.linspace(-size, size, grid_size)\n",
    "        self.y = np.linspace(-size, size, grid_size)\n",
    "        self.X, self.Y = np.meshgrid(self.x, self.y)      \n",
    "        self.XY = np.array([self.X,self.Y])\n",
    "        self.Z = self.exp_value(self.XY)\n",
    "        \n",
    "    def plot(self):\n",
    "        '''Simple plotting function for the surface (exp_value) during R&D.'''\n",
    "        plt.contourf(self.X, self.Y, self.Z)\n",
    "        plt.colorbar()\n",
    "        plt.show()\n",
    "        \n",
    "    def plot_value(self):\n",
    "        '''Simple plotting function for the value during R&D.'''\n",
    "        v = self.value(self.XY)\n",
    "        plt.contourf(self.X, self.Y, v)\n",
    "        plt.colorbar()\n",
    "        plt.show()\n",
    "        \n",
    "    def value(self, xy):\n",
    "        '''Calculates functions values (logpdf for sampling) for the given point. Used only for calculation.'''\n",
    "        return self.distr.logpdf(xy)\n",
    "    \n",
    "    def exp_value(self, xy):\n",
    "        '''Calculates exponential values of the function (probability density function of this distribution\n",
    "        for sampling). Used to plot the surface (heatmap).'''\n",
    "        return np.exp(self.value(xy))\n",
    "            \n",
    "    \n",
    "    def get_surface(self):\n",
    "        '''Returns a dictionary with data to a Canvas object.'''\n",
    "        return {'x':self.x, 'y':self.y, 'z':self.Z}\n",
    "    \n",
    "    def get_size(self):\n",
    "        return self.size\n",
    "    \n",
    "    def get_cmap(self):\n",
    "        return self.cmap\n",
    "    \n",
    "    def plot_surface(self):\n",
    "        '''Plots the surface (heatmap) using bqplot. Used only here during R&D.'''\n",
    "        # Chose the colormap\n",
    "        if (self.cmap=='Blues'):\n",
    "            self.col_sc = bqplot.ColorScale(scheme='Blues')\n",
    "        elif (self.cmap=='Rosenblues'):\n",
    "            self.col_sc = bqplot.ColorScale(colors=['#3182bd','#9ecae1','#deebf7'], max=10)\n",
    "        elif (self.cmap=='Viridis'):\n",
    "            self.col_sc = bqplot.ColorScale(colors=['#440154','#358779', '#fde725'])\n",
    "            \n",
    "        # Create axes\n",
    "        self.x_sc = bqplot.LinearScale(min=-self.size, max=self.size)\n",
    "        self.y_sc = bqplot.LinearScale(min=-self.size, max=self.size)\n",
    "        self.ax_x = bqplot.Axis(scale=self.x_sc, orientation='horizontal', num_ticks=7)\n",
    "        self.ax_y = bqplot.Axis(scale=self.y_sc, orientation='vertical', num_ticks=7)\n",
    "        self.ax_c = bqplot.ColorAxis(scale=self.col_sc)\n",
    "            \n",
    "        # Create a heatmap \n",
    "        self.target_heat = bqplot.HeatMap(x=self.x, y=self.y, color=self.Z,  \n",
    "                                          scales={'color': self.col_sc, 'x': self.x_sc, 'y': self.y_sc})\n",
    "        self.canvas = bqplot.Figure(marks=[self.target_heat], axes=[self.ax_x, self.ax_y])\n",
    "            \n",
    "        # Set the canvases size\n",
    "        self.canvas.layout.height = '600px'\n",
    "        self.canvas.layout.width = '600px'\n",
    "        display.display(self.canvas)\n",
    "        \n",
    "    def save_canvas(self, filename='bqplot.png'):\n",
    "        try:\n",
    "            self.canvas.save_svg(filename)\n",
    "        except:\n",
    "            print('Cannot find the canvas. Check that it was already created during plot_surface().')\n",
    "            \n",
    "    def grad(self, x):\n",
    "        '''Calculates gradient of the target in given point x numerically. \n",
    "        If the analytical calculation of the gradient is possible, it should be redefined.'''\n",
    "        f = lambda x: self.value(x)\n",
    "        eps = 1e-4\n",
    "        gradx = np.zeros_like(x)\n",
    "        for i in range(x.size):\n",
    "            dx = np.zeros_like(x)\n",
    "            dx[i] = 1\n",
    "            gradx[i] = (f(x + dx*eps/2) - f(x - dx*eps/2))/eps\n",
    "        return gradx"
   ]
  },
  {
   "cell_type": "markdown",
   "metadata": {},
   "source": [
    "## Multivariate normal"
   ]
  },
  {
   "cell_type": "code",
   "execution_count": 6,
   "metadata": {},
   "outputs": [],
   "source": [
    "#<api>       \n",
    "class MultNorm (Target):\n",
    "    '''Multivariate normal target distribution'''\n",
    "    def __init__(self, size=3, mean=[0,0], cov=[[1, 0.99],[0.99, 1]], cmap='Viridis'):               \n",
    "        self.cov_inv = np.linalg.inv(np.array(cov))\n",
    "        self.mean = mean\n",
    "        self.cmap = cmap\n",
    "        self.distr = Norm2D(mean=mean, cov=cov)\n",
    "        self.init_grid(size)\n",
    "        \n",
    "    def grad(self, xy):\n",
    "        '''Analytical calculation of gradient.'''\n",
    "        gradx = np.array([.0,.0])\n",
    "        gradx[0] = - self.cov_inv[0,0]*(xy[0]-self.mean[0]) - \\\n",
    "                    (self.cov_inv[0,1]+self.cov_inv[1,0])*(xy[1]-self.mean[1])/2\n",
    "        gradx[1] = - self.cov_inv[1,1]*(xy[1]-self.mean[1]) - \\\n",
    "                    (self.cov_inv[0,1]+self.cov_inv[1,0])*(xy[0]-self.mean[0])/2\n",
    "        return gradx"
   ]
  },
  {
   "cell_type": "code",
   "execution_count": 7,
   "metadata": {},
   "outputs": [],
   "source": [
    "mn = MultNorm()"
   ]
  },
  {
   "cell_type": "code",
   "execution_count": 8,
   "metadata": {},
   "outputs": [
    {
     "data": {
      "application/vnd.jupyter.widget-view+json": {
       "model_id": "0652c945a92b4978bb1f527b6f8f1298",
       "version_major": 2,
       "version_minor": 0
      },
      "text/plain": [
       "Figure(axes=[Axis(num_ticks=7, scale=LinearScale(max=3.0, min=-3.0)), Axis(num_ticks=7, orientation='vertical'…"
      ]
     },
     "metadata": {},
     "output_type": "display_data"
    }
   ],
   "source": [
    "mn.plot_surface()"
   ]
  },
  {
   "cell_type": "code",
   "execution_count": 9,
   "metadata": {
    "scrolled": true
   },
   "outputs": [
    {
     "data": {
      "image/png": "[encoded data removed]",
      "text/plain": [
       "<matplotlib.figure.Figure at 0x7fcb3080e3c8>"
      ]
     },
     "metadata": {},
     "output_type": "display_data"
    }
   ],
   "source": [
    "mn.plot_value()"
   ]
  },
  {
   "cell_type": "markdown",
   "metadata": {},
   "source": [
    "## Bimodal multivariate normal"
   ]
  },
  {
   "cell_type": "code",
   "execution_count": 10,
   "metadata": {},
   "outputs": [],
   "source": [
    "#<api>\n",
    "class BimodMultNorm (Target):\n",
    "    '''Bimodal multivariate normal target distribution. \n",
    "    \n",
    "    Arguments a1 and a2 are used to set the amplitude of the 1st and the 2nd distribution.'''\n",
    "    \n",
    "    def __init__(self, size=6, a1=0, mean1=[2,3], cov1=[[1, 0.1],[0.1, 1]], \n",
    "                               a2=0, mean2=[-2,-2], cov2=[[1.5, 0],[0, 1.5]], cmap='Viridis'):        \n",
    "        self.cmap = cmap\n",
    "        self.mod1 = Norm2D(mean=mean1, cov=cov1)\n",
    "        self.mod2 = Norm2D(mean=mean2, cov=cov2)        \n",
    "        self.a1=a1\n",
    "        self.a2=a2\n",
    "        self.init_grid(size)        \n",
    "    \n",
    "    def value(self, xy):\n",
    "        return np.logaddexp(self.a1+self.mod1.logpdf(xy),self.a2+self.mod2.logpdf(xy))"
   ]
  },
  {
   "cell_type": "code",
   "execution_count": 11,
   "metadata": {
    "scrolled": false
   },
   "outputs": [
    {
     "data": {
      "application/vnd.jupyter.widget-view+json": {
       "model_id": "2dc63773b64946d3b269bc15a5f8376a",
       "version_major": 2,
       "version_minor": 0
      },
      "text/plain": [
       "Figure(axes=[Axis(num_ticks=7, scale=LinearScale(max=6.0, min=-6.0)), Axis(num_ticks=7, orientation='vertical'…"
      ]
     },
     "metadata": {},
     "output_type": "display_data"
    },
    {
     "data": {
      "image/png": "[encoded data removed]",
      "text/plain": [
       "<matplotlib.figure.Figure at 0x7fcb243f0ef0>"
      ]
     },
     "metadata": {},
     "output_type": "display_data"
    }
   ],
   "source": [
    "bm = BimodMultNorm()\n",
    "bm.plot_surface()\n",
    "bm.plot_value()"
   ]
  },
  {
   "cell_type": "code",
   "execution_count": 12,
   "metadata": {},
   "outputs": [
    {
     "data": {
      "application/vnd.jupyter.widget-view+json": {
       "model_id": "4e8db3e5287542bf91a2472a35e6aee4",
       "version_major": 2,
       "version_minor": 0
      },
      "text/plain": [
       "Figure(axes=[Axis(num_ticks=7, scale=LinearScale(max=3.0, min=-3.0)), Axis(num_ticks=7, orientation='vertical'…"
      ]
     },
     "metadata": {},
     "output_type": "display_data"
    },
    {
     "data": {
      "image/png": "[encoded data removed]",
      "text/plain": [
       "<matplotlib.figure.Figure at 0x7fcb243f0780>"
      ]
     },
     "metadata": {},
     "output_type": "display_data"
    }
   ],
   "source": [
    "bb8 = BimodMultNorm(size=3, a1=0, mean1=[0,1.5], cov1=[[.2, 0],[0, .2]], \n",
    "                            a2=1.5, mean2=[0,-0.7], cov2=[[1, 0],[0, 1]])\n",
    "bb8.plot_surface()\n",
    "bb8.plot_value()"
   ]
  },
  {
   "cell_type": "markdown",
   "metadata": {},
   "source": [
    "## Donut"
   ]
  },
  {
   "cell_type": "code",
   "execution_count": 13,
   "metadata": {},
   "outputs": [],
   "source": [
    "#<api>\n",
    "class Donut (Target):\n",
    "    '''Donut distribution using polar coorinates'''\n",
    "    \n",
    "    def __init__(self, size=4, mean=2, variance=0.4, cmap='Viridis'):        \n",
    "        #self.start_point = [-3.5, -3.5]\n",
    "        self.std = variance\n",
    "        self.mean = mean\n",
    "        self.cmap = cmap\n",
    "        self.rad_distr = Norm(loc=mean, scale=variance)        \n",
    "        self.init_grid(size)        \n",
    "    \n",
    "    def value(self, xy): \n",
    "        x = xy[0]\n",
    "        y = xy[1]\n",
    "        return self.rad_distr.logpdf(np.sqrt(x**2 + y**2))\n",
    "    \n",
    "    def grad(self, xy):\n",
    "        '''Analytical calculation of gradient.'''\n",
    "        gradx = np.array([.0,.0])\n",
    "        temp = - (1 - self.mean/np.sqrt(xy[0]**2 + xy[1]**2))/self.std**2\n",
    "        gradx[0] = xy[0]*temp\n",
    "        gradx[1] = xy[1]*temp\n",
    "        return gradx"
   ]
  },
  {
   "cell_type": "code",
   "execution_count": 14,
   "metadata": {
    "scrolled": false
   },
   "outputs": [
    {
     "data": {
      "application/vnd.jupyter.widget-view+json": {
       "model_id": "45c8ceaa1ef649a79c9ac73da5f4da34",
       "version_major": 2,
       "version_minor": 0
      },
      "text/plain": [
       "Figure(axes=[Axis(num_ticks=7, scale=LinearScale(max=4.0, min=-4.0)), Axis(num_ticks=7, orientation='vertical'…"
      ]
     },
     "metadata": {},
     "output_type": "display_data"
    },
    {
     "data": {
      "image/png": "[encoded data removed]",
      "text/plain": [
       "<matplotlib.figure.Figure at 0x7fcb54215a90>"
      ]
     },
     "metadata": {},
     "output_type": "display_data"
    }
   ],
   "source": [
    "dr = Donut()\n",
    "dr.plot_surface()\n",
    "dr.plot_value()"
   ]
  },
  {
   "cell_type": "code",
   "execution_count": 15,
   "metadata": {},
   "outputs": [],
   "source": [
    "#<api>\n",
    "class Donut_min (Donut):\n",
    "    '''Donut distribution with the global minimum in the center.'''\n",
    "    \n",
    "    def __init__(self, size=4, mean=2, variance=0.4, cmap='Viridis'):        \n",
    "        self.std = variance\n",
    "        self.mean = mean        \n",
    "        self.cmap = cmap\n",
    "        self.rad_distr = Norm(loc=mean, scale=variance)\n",
    "        min_distr_std = 0.5\n",
    "        self.min_distr = Norm2D(mean=[0,0], cov=[[min_distr_std, 0],[0, min_distr_std]]) \n",
    "        self.init_grid(size)        \n",
    "    \n",
    "    def value(self, xy):\n",
    "        x = xy[0]\n",
    "        y = xy[1]\n",
    "        return np.logaddexp(self.rad_distr.logpdf(np.sqrt(x**2 + y**2)), 1/self.min_distr.logpdf(xy))      "
   ]
  },
  {
   "cell_type": "code",
   "execution_count": 16,
   "metadata": {},
   "outputs": [
    {
     "data": {
      "application/vnd.jupyter.widget-view+json": {
       "model_id": "9ece9d0e802841619af9e25fef7c728e",
       "version_major": 2,
       "version_minor": 0
      },
      "text/plain": [
       "Figure(axes=[Axis(num_ticks=7, scale=LinearScale(max=4.0, min=-4.0)), Axis(num_ticks=7, orientation='vertical'…"
      ]
     },
     "metadata": {},
     "output_type": "display_data"
    },
    {
     "data": {
      "image/png": "[encoded data removed]",
      "text/plain": [
       "<matplotlib.figure.Figure at 0x7fcb24306470>"
      ]
     },
     "metadata": {},
     "output_type": "display_data"
    }
   ],
   "source": [
    "dm = Donut_min()\n",
    "dm.plot_surface()\n",
    "dm.plot_value()"
   ]
  },
  {
   "cell_type": "markdown",
   "metadata": {},
   "source": [
    "## Rosenbrock (banana) function"
   ]
  },
  {
   "cell_type": "code",
   "execution_count": 17,
   "metadata": {},
   "outputs": [],
   "source": [
    "#<api>\n",
    "class Rosenbrock (Target):\n",
    "    '''Inversed Rosenbrock function (banana function with the global maximum \n",
    "    instead of the global minimum).'''\n",
    "    \n",
    "    def __init__(self, size=2, a=0, b=20, cmap='Viridis'):\n",
    "        self.cmap = cmap\n",
    "        self.a = a\n",
    "        self.b = b         \n",
    "        self.init_grid(size)         \n",
    "    \n",
    "    def value(self, xy):\n",
    "        x = xy[0]\n",
    "        y = xy[1]\n",
    "        return -((self.a-x)**2 + self.b*(y-x*x)**2)\n",
    "    \n",
    "    def grad_analytic(self, xy):\n",
    "        '''Analytical calculation of gradient. Not stable, therefore, \n",
    "        it is not currently used.'''\n",
    "        gradx = np.array([0,0])\n",
    "        gradx[0] = 2*(self.a - xy[0]) + 4*self.b*xy[0]*(xy[1] - xy[0]**2)\n",
    "        gradx[1] = - 2*self.b*(xy[1] - xy[0]**2)\n",
    "        return gradx"
   ]
  },
  {
   "cell_type": "code",
   "execution_count": 18,
   "metadata": {
    "scrolled": false
   },
   "outputs": [
    {
     "data": {
      "application/vnd.jupyter.widget-view+json": {
       "model_id": "7396e52e36ac4cdcbc1d1e054199bb45",
       "version_major": 2,
       "version_minor": 0
      },
      "text/plain": [
       "Figure(axes=[Axis(num_ticks=7, scale=LinearScale(max=2.0, min=-2.0)), Axis(num_ticks=7, orientation='vertical'…"
      ]
     },
     "metadata": {},
     "output_type": "display_data"
    },
    {
     "data": {
      "image/png": "[encoded data removed]",
      "text/plain": [
       "<matplotlib.figure.Figure at 0x7fcb243f0e80>"
      ]
     },
     "metadata": {},
     "output_type": "display_data"
    }
   ],
   "source": [
    "r = Rosenbrock()\n",
    "r.plot_surface()\n",
    "r.plot_value()"
   ]
  },
  {
   "cell_type": "code",
   "execution_count": 19,
   "metadata": {},
   "outputs": [
    {
     "name": "stdout",
     "output_type": "stream",
     "text": [
      "[ 77 -40]\n",
      "[ 78 -40]\n"
     ]
    }
   ],
   "source": [
    "# Compare numerical and analitical gradients\n",
    "point = np.array([1,2])\n",
    "print(r.grad(point))\n",
    "print(r.grad_analytic(point))"
   ]
  },
  {
   "cell_type": "code",
   "execution_count": null,
   "metadata": {},
   "outputs": [],
   "source": []
  }
 ],
 "metadata": {
  "kernelspec": {
   "display_name": "Python 3",
   "language": "python",
   "name": "python3"
  },
  "language_info": {
   "codemirror_mode": {
    "name": "ipython",
    "version": 3
   },
   "file_extension": ".py",
   "mimetype": "text/x-python",
   "name": "python",
   "nbconvert_exporter": "python",
   "pygments_lexer": "ipython3",
   "version": "3.6.4"
  }
 },
 "nbformat": 4,
 "nbformat_minor": 1
}
